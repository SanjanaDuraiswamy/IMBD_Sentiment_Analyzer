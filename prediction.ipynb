{
 "cells": [
  {
   "cell_type": "code",
   "execution_count": 1,
   "metadata": {},
   "outputs": [],
   "source": [
    "# Step 1: Import Libraries and Load the Model\n",
    "import numpy as np\n",
    "import tensorflow as tf\n",
    "from tensorflow.keras.datasets import imdb\n",
    "from tensorflow.keras.preprocessing import sequence\n",
    "from tensorflow.keras.models import load_model"
   ]
  },
  {
   "cell_type": "code",
   "execution_count": 2,
   "metadata": {},
   "outputs": [],
   "source": [
    "\n",
    "# Load the IMDB dataset word index\n",
    "word_index = imdb.get_word_index()\n",
    "reverse_word_index = {value: key for key, value in word_index.items()}"
   ]
  },
  {
   "cell_type": "code",
   "execution_count": 3,
   "metadata": {},
   "outputs": [
    {
     "name": "stderr",
     "output_type": "stream",
     "text": [
      "WARNING:absl:Compiled the loaded model, but the compiled metrics have yet to be built. `model.compile_metrics` will be empty until you train or evaluate the model.\n"
     ]
    },
    {
     "data": {
      "text/html": [
       "<pre style=\"white-space:pre;overflow-x:auto;line-height:normal;font-family:Menlo,'DejaVu Sans Mono',consolas,'Courier New',monospace\"><span style=\"font-weight: bold\">Model: \"sequential\"</span>\n",
       "</pre>\n"
      ],
      "text/plain": [
       "\u001b[1mModel: \"sequential\"\u001b[0m\n"
      ]
     },
     "metadata": {},
     "output_type": "display_data"
    },
    {
     "data": {
      "text/html": [
       "<pre style=\"white-space:pre;overflow-x:auto;line-height:normal;font-family:Menlo,'DejaVu Sans Mono',consolas,'Courier New',monospace\">┏━━━━━━━━━━━━━━━━━━━━━━━━━━━━━━━━━┳━━━━━━━━━━━━━━━━━━━━━━━━┳━━━━━━━━━━━━━━━┓\n",
       "┃<span style=\"font-weight: bold\"> Layer (type)                    </span>┃<span style=\"font-weight: bold\"> Output Shape           </span>┃<span style=\"font-weight: bold\">       Param # </span>┃\n",
       "┡━━━━━━━━━━━━━━━━━━━━━━━━━━━━━━━━━╇━━━━━━━━━━━━━━━━━━━━━━━━╇━━━━━━━━━━━━━━━┩\n",
       "│ embedding (<span style=\"color: #0087ff; text-decoration-color: #0087ff\">Embedding</span>)           │ (<span style=\"color: #00d7ff; text-decoration-color: #00d7ff\">None</span>, <span style=\"color: #00af00; text-decoration-color: #00af00\">500</span>, <span style=\"color: #00af00; text-decoration-color: #00af00\">128</span>)       │     <span style=\"color: #00af00; text-decoration-color: #00af00\">1,280,000</span> │\n",
       "├─────────────────────────────────┼────────────────────────┼───────────────┤\n",
       "│ simple_rnn (<span style=\"color: #0087ff; text-decoration-color: #0087ff\">SimpleRNN</span>)          │ (<span style=\"color: #00d7ff; text-decoration-color: #00d7ff\">None</span>, <span style=\"color: #00af00; text-decoration-color: #00af00\">128</span>)            │        <span style=\"color: #00af00; text-decoration-color: #00af00\">32,896</span> │\n",
       "├─────────────────────────────────┼────────────────────────┼───────────────┤\n",
       "│ dense (<span style=\"color: #0087ff; text-decoration-color: #0087ff\">Dense</span>)                   │ (<span style=\"color: #00d7ff; text-decoration-color: #00d7ff\">None</span>, <span style=\"color: #00af00; text-decoration-color: #00af00\">1</span>)              │           <span style=\"color: #00af00; text-decoration-color: #00af00\">129</span> │\n",
       "└─────────────────────────────────┴────────────────────────┴───────────────┘\n",
       "</pre>\n"
      ],
      "text/plain": [
       "┏━━━━━━━━━━━━━━━━━━━━━━━━━━━━━━━━━┳━━━━━━━━━━━━━━━━━━━━━━━━┳━━━━━━━━━━━━━━━┓\n",
       "┃\u001b[1m \u001b[0m\u001b[1mLayer (type)                   \u001b[0m\u001b[1m \u001b[0m┃\u001b[1m \u001b[0m\u001b[1mOutput Shape          \u001b[0m\u001b[1m \u001b[0m┃\u001b[1m \u001b[0m\u001b[1m      Param #\u001b[0m\u001b[1m \u001b[0m┃\n",
       "┡━━━━━━━━━━━━━━━━━━━━━━━━━━━━━━━━━╇━━━━━━━━━━━━━━━━━━━━━━━━╇━━━━━━━━━━━━━━━┩\n",
       "│ embedding (\u001b[38;5;33mEmbedding\u001b[0m)           │ (\u001b[38;5;45mNone\u001b[0m, \u001b[38;5;34m500\u001b[0m, \u001b[38;5;34m128\u001b[0m)       │     \u001b[38;5;34m1,280,000\u001b[0m │\n",
       "├─────────────────────────────────┼────────────────────────┼───────────────┤\n",
       "│ simple_rnn (\u001b[38;5;33mSimpleRNN\u001b[0m)          │ (\u001b[38;5;45mNone\u001b[0m, \u001b[38;5;34m128\u001b[0m)            │        \u001b[38;5;34m32,896\u001b[0m │\n",
       "├─────────────────────────────────┼────────────────────────┼───────────────┤\n",
       "│ dense (\u001b[38;5;33mDense\u001b[0m)                   │ (\u001b[38;5;45mNone\u001b[0m, \u001b[38;5;34m1\u001b[0m)              │           \u001b[38;5;34m129\u001b[0m │\n",
       "└─────────────────────────────────┴────────────────────────┴───────────────┘\n"
      ]
     },
     "metadata": {},
     "output_type": "display_data"
    },
    {
     "data": {
      "text/html": [
       "<pre style=\"white-space:pre;overflow-x:auto;line-height:normal;font-family:Menlo,'DejaVu Sans Mono',consolas,'Courier New',monospace\"><span style=\"font-weight: bold\"> Total params: </span><span style=\"color: #00af00; text-decoration-color: #00af00\">1,313,027</span> (5.01 MB)\n",
       "</pre>\n"
      ],
      "text/plain": [
       "\u001b[1m Total params: \u001b[0m\u001b[38;5;34m1,313,027\u001b[0m (5.01 MB)\n"
      ]
     },
     "metadata": {},
     "output_type": "display_data"
    },
    {
     "data": {
      "text/html": [
       "<pre style=\"white-space:pre;overflow-x:auto;line-height:normal;font-family:Menlo,'DejaVu Sans Mono',consolas,'Courier New',monospace\"><span style=\"font-weight: bold\"> Trainable params: </span><span style=\"color: #00af00; text-decoration-color: #00af00\">1,313,025</span> (5.01 MB)\n",
       "</pre>\n"
      ],
      "text/plain": [
       "\u001b[1m Trainable params: \u001b[0m\u001b[38;5;34m1,313,025\u001b[0m (5.01 MB)\n"
      ]
     },
     "metadata": {},
     "output_type": "display_data"
    },
    {
     "data": {
      "text/html": [
       "<pre style=\"white-space:pre;overflow-x:auto;line-height:normal;font-family:Menlo,'DejaVu Sans Mono',consolas,'Courier New',monospace\"><span style=\"font-weight: bold\"> Non-trainable params: </span><span style=\"color: #00af00; text-decoration-color: #00af00\">0</span> (0.00 B)\n",
       "</pre>\n"
      ],
      "text/plain": [
       "\u001b[1m Non-trainable params: \u001b[0m\u001b[38;5;34m0\u001b[0m (0.00 B)\n"
      ]
     },
     "metadata": {},
     "output_type": "display_data"
    },
    {
     "data": {
      "text/html": [
       "<pre style=\"white-space:pre;overflow-x:auto;line-height:normal;font-family:Menlo,'DejaVu Sans Mono',consolas,'Courier New',monospace\"><span style=\"font-weight: bold\"> Optimizer params: </span><span style=\"color: #00af00; text-decoration-color: #00af00\">2</span> (12.00 B)\n",
       "</pre>\n"
      ],
      "text/plain": [
       "\u001b[1m Optimizer params: \u001b[0m\u001b[38;5;34m2\u001b[0m (12.00 B)\n"
      ]
     },
     "metadata": {},
     "output_type": "display_data"
    }
   ],
   "source": [
    "# Load the pre-trained model with ReLU activation\n",
    "model = load_model('simple_rnn_imdb.h5')\n",
    "model.summary()"
   ]
  },
  {
   "cell_type": "code",
   "execution_count": 4,
   "metadata": {},
   "outputs": [
    {
     "data": {
      "text/plain": [
       "[array([[-1.45907193e-01, -2.99191803e-01,  1.99119911e-01, ...,\n",
       "          2.78237492e-01,  5.53185284e-01, -6.13122992e-02],\n",
       "        [-1.65498406e-01, -7.92362839e-02, -2.75710635e-02, ...,\n",
       "         -2.31047105e-02,  1.01828121e-01,  1.43447414e-01],\n",
       "        [ 2.14548297e-02, -3.49750742e-02,  1.59705058e-02, ...,\n",
       "          4.27390944e-04,  3.82926725e-02,  3.06500997e-02],\n",
       "        ...,\n",
       "        [-2.84485635e-03, -8.34702700e-03,  2.05703527e-02, ...,\n",
       "          3.42886299e-02,  8.95655379e-02,  8.24318826e-03],\n",
       "        [ 2.09379658e-01,  4.21707965e-02, -7.46633708e-02, ...,\n",
       "          5.70839942e-02, -1.75661907e-01, -5.22460602e-02],\n",
       "        [-1.03533685e-01,  1.61643386e-01,  1.41987056e-01, ...,\n",
       "          1.77513495e-01,  1.85790479e-01,  1.29913418e-02]], dtype=float32),\n",
       " array([[ 0.22932696, -0.17319097,  0.10620759, ..., -0.00755493,\n",
       "         -0.13543802, -0.02414421],\n",
       "        [ 0.11271534, -0.12264211,  0.10395999, ..., -0.19026981,\n",
       "          0.0888573 ,  0.00904174],\n",
       "        [-0.04150657, -0.0328132 , -0.08142859, ..., -0.16460922,\n",
       "         -0.11351535, -0.10473899],\n",
       "        ...,\n",
       "        [ 0.11588244,  0.12513222, -0.04574035, ..., -0.12762098,\n",
       "         -0.10663439, -0.12956885],\n",
       "        [-0.14465508,  0.03101574, -0.17876929, ...,  0.02528212,\n",
       "         -0.02822704, -0.00204957],\n",
       "        [-0.08849724,  0.15732408,  0.00518185, ...,  0.07563698,\n",
       "          0.03869976, -0.01651492]], dtype=float32),\n",
       " array([[-0.13253197, -0.11609834, -0.00805074, ...,  0.0277253 ,\n",
       "          0.08086997, -0.05700947],\n",
       "        [-0.20023876,  0.0877429 , -0.14378904, ..., -0.12354992,\n",
       "          0.01172278,  0.01355147],\n",
       "        [ 0.03540853,  0.02469036, -0.18796955, ...,  0.02572815,\n",
       "         -0.05205526,  0.0616733 ],\n",
       "        ...,\n",
       "        [-0.17281397,  0.05047587, -0.02691713, ...,  0.0966535 ,\n",
       "         -0.09065152, -0.15040407],\n",
       "        [ 0.10572667,  0.17936054, -0.24590951, ..., -0.21400319,\n",
       "          0.00146082,  0.09900684],\n",
       "        [-0.02208313,  0.03946398, -0.00823799, ...,  0.08163775,\n",
       "         -0.18687753,  0.03089818]], dtype=float32),\n",
       " array([-0.06564435, -0.07127347,  0.00283461, -0.04786942, -0.05810596,\n",
       "        -0.05539928,  0.01040342,  0.00921336, -0.07597077, -0.00178909,\n",
       "        -0.10801372, -0.04417831, -0.01896968, -0.01005681, -0.06526922,\n",
       "         0.04745714,  0.01004187,  0.01427126, -0.07023825, -0.10774   ,\n",
       "        -0.03867681, -0.06046485, -0.02633588,  0.05224784, -0.08574899,\n",
       "        -0.01289262, -0.07038169,  0.06018696,  0.04947022,  0.02399939,\n",
       "        -0.0315784 , -0.02159087,  0.04123144,  0.00553453, -0.01434771,\n",
       "        -0.10793108,  0.04386457,  0.00702572,  0.01529271, -0.05769211,\n",
       "        -0.05011182, -0.02951504, -0.11123732,  0.04446392, -0.0501749 ,\n",
       "        -0.04832933,  0.03234048,  0.04437984,  0.01272021, -0.00859219,\n",
       "        -0.05625096, -0.06777741,  0.04084614,  0.01288886,  0.02473081,\n",
       "        -0.06111894, -0.03591064,  0.02889951, -0.06181821,  0.03395788,\n",
       "         0.05270059,  0.01427923,  0.01870847,  0.07086747, -0.05420632,\n",
       "         0.05486952,  0.05572648,  0.00865182, -0.0688974 , -0.07610153,\n",
       "        -0.06966218, -0.04516396,  0.01737064, -0.00066701, -0.05543689,\n",
       "         0.03224395,  0.01137191, -0.01642981,  0.03080911,  0.02153141,\n",
       "        -0.07635971, -0.03482735,  0.052125  , -0.03852428, -0.03369244,\n",
       "         0.10319381,  0.03404378, -0.01851918,  0.05615186,  0.00583295,\n",
       "        -0.04339772, -0.03678308,  0.01833828,  0.04873052,  0.05253549,\n",
       "        -0.02642026, -0.07413355, -0.01975364, -0.07543615,  0.04133167,\n",
       "         0.00163217, -0.05658893,  0.0530435 , -0.03166766, -0.12832657,\n",
       "         0.03665296, -0.01056728,  0.05475463,  0.01089702, -0.00102415,\n",
       "        -0.06754004,  0.06119095, -0.06406045,  0.02460282, -0.09602811,\n",
       "        -0.0844194 , -0.09110322,  0.01508979, -0.09032419,  0.03416489,\n",
       "        -0.14841367, -0.00969432,  0.0648104 ,  0.01535334, -0.09812116,\n",
       "         0.0026226 ,  0.0674875 ,  0.02989996], dtype=float32),\n",
       " array([[-0.34169918],\n",
       "        [-0.21637784],\n",
       "        [ 0.17900927],\n",
       "        [-0.24748693],\n",
       "        [-0.08097734],\n",
       "        [ 0.18202743],\n",
       "        [-0.16593839],\n",
       "        [-0.10913019],\n",
       "        [-0.1602173 ],\n",
       "        [-0.19576284],\n",
       "        [-0.05818493],\n",
       "        [-0.1562248 ],\n",
       "        [-0.1376958 ],\n",
       "        [ 0.20687535],\n",
       "        [-0.1322151 ],\n",
       "        [ 0.2031217 ],\n",
       "        [-0.16027828],\n",
       "        [-0.1344691 ],\n",
       "        [-0.05148573],\n",
       "        [-0.32658133],\n",
       "        [ 0.10891809],\n",
       "        [ 0.03865363],\n",
       "        [-0.04193235],\n",
       "        [ 0.3458335 ],\n",
       "        [-0.44185293],\n",
       "        [ 0.01376464],\n",
       "        [-0.18335216],\n",
       "        [ 0.1574313 ],\n",
       "        [ 0.1458024 ],\n",
       "        [-0.15020877],\n",
       "        [-0.14923772],\n",
       "        [-0.16453427],\n",
       "        [ 0.13974307],\n",
       "        [-0.26509044],\n",
       "        [-0.08190399],\n",
       "        [ 0.01612449],\n",
       "        [ 0.13596025],\n",
       "        [ 0.08396256],\n",
       "        [-0.30811292],\n",
       "        [-0.09408156],\n",
       "        [-0.09525234],\n",
       "        [ 0.39792803],\n",
       "        [ 0.03573977],\n",
       "        [-0.05748954],\n",
       "        [-0.350194  ],\n",
       "        [-0.138399  ],\n",
       "        [ 0.4608042 ],\n",
       "        [ 0.12582766],\n",
       "        [-1.3948517 ],\n",
       "        [-0.21520868],\n",
       "        [-0.19901629],\n",
       "        [ 0.3795198 ],\n",
       "        [ 0.20479698],\n",
       "        [ 0.10144979],\n",
       "        [-0.15058777],\n",
       "        [-0.03586828],\n",
       "        [ 0.14605573],\n",
       "        [ 0.46907386],\n",
       "        [ 0.5570408 ],\n",
       "        [ 0.11811311],\n",
       "        [ 0.05545359],\n",
       "        [ 0.36181787],\n",
       "        [-0.216965  ],\n",
       "        [ 0.21654975],\n",
       "        [-0.0929708 ],\n",
       "        [ 0.21574059],\n",
       "        [ 0.27160457],\n",
       "        [-0.30567366],\n",
       "        [-0.13238953],\n",
       "        [ 0.12760529],\n",
       "        [-0.11502314],\n",
       "        [-0.41798824],\n",
       "        [ 0.01490505],\n",
       "        [-0.2560839 ],\n",
       "        [-0.12457189],\n",
       "        [ 0.09334018],\n",
       "        [ 0.24724784],\n",
       "        [ 0.30736217],\n",
       "        [-0.00597527],\n",
       "        [-0.02841903],\n",
       "        [-0.2708392 ],\n",
       "        [-0.7248154 ],\n",
       "        [ 0.26426235],\n",
       "        [ 0.27888906],\n",
       "        [ 0.01878289],\n",
       "        [-0.22099967],\n",
       "        [-0.03834576],\n",
       "        [-0.14679554],\n",
       "        [ 0.07124305],\n",
       "        [ 0.14955841],\n",
       "        [-0.13137293],\n",
       "        [-0.25682122],\n",
       "        [-0.2398553 ],\n",
       "        [-1.2290913 ],\n",
       "        [ 0.14142764],\n",
       "        [-0.12713999],\n",
       "        [-0.3637572 ],\n",
       "        [ 0.58335716],\n",
       "        [-0.21872918],\n",
       "        [ 0.14194286],\n",
       "        [-0.16601273],\n",
       "        [-0.09573675],\n",
       "        [ 0.3986607 ],\n",
       "        [ 0.2834671 ],\n",
       "        [ 0.08621974],\n",
       "        [-0.12714297],\n",
       "        [-0.21157086],\n",
       "        [ 0.04090523],\n",
       "        [-0.10705904],\n",
       "        [ 0.12882593],\n",
       "        [ 0.13311441],\n",
       "        [ 0.1796375 ],\n",
       "        [-0.19210729],\n",
       "        [ 0.19273238],\n",
       "        [ 0.04932493],\n",
       "        [ 0.02644843],\n",
       "        [-0.27994448],\n",
       "        [ 0.01000228],\n",
       "        [ 0.34647977],\n",
       "        [-0.2671345 ],\n",
       "        [ 0.14946802],\n",
       "        [-0.87501824],\n",
       "        [-1.5194192 ],\n",
       "        [ 0.15077662],\n",
       "        [-0.13581766],\n",
       "        [-0.2712387 ],\n",
       "        [ 0.3223294 ],\n",
       "        [ 0.03620601]], dtype=float32),\n",
       " array([-0.65770483], dtype=float32)]"
      ]
     },
     "execution_count": 4,
     "metadata": {},
     "output_type": "execute_result"
    }
   ],
   "source": [
    "model.get_weights()"
   ]
  },
  {
   "cell_type": "code",
   "execution_count": 9,
   "metadata": {},
   "outputs": [],
   "source": [
    "# Step 2: Helper Functions\n",
    "# Function to decode reviews\n",
    "def decode_review(encoded_review):\n",
    "    return ' '.join([reverse_word_index.get(i - 3, '?') for i in encoded_review])\n",
    "\n",
    "# Function to preprocess user input\n",
    "def preprocess_text(text):\n",
    "    words = text.lower().split()\n",
    "    encoded_review = [word_index.get(word, 2) + 3 for word in words]\n",
    "    padded_review = sequence.pad_sequences([encoded_review], maxlen=500)\n",
    "    return padded_review"
   ]
  },
  {
   "cell_type": "code",
   "execution_count": null,
   "metadata": {},
   "outputs": [],
   "source": [
    "### Prediction  function\n",
    "\n",
    "def predict_sentiment(review):\n",
    "    preprocessed_input=preprocess_text(review)\n",
    "\n",
    "    prediction=model.predict(preprocessed_input)\n",
    "    score=float(prediction[0][0])\n",
    "    print(\"Prediction Score:\",score)\n",
    "    if score >0.06:\n",
    "     sentiment = 'Positive'\n",
    "    else:\n",
    "     sentiment = 'Negative' \n",
    "    return sentiment, score\n",
    "\n"
   ]
  },
  {
   "cell_type": "code",
   "execution_count": 15,
   "metadata": {},
   "outputs": [
    {
     "name": "stdout",
     "output_type": "stream",
     "text": [
      "\u001b[1m1/1\u001b[0m \u001b[32m━━━━━━━━━━━━━━━━━━━━\u001b[0m\u001b[37m\u001b[0m \u001b[1m0s\u001b[0m 37ms/step\n",
      "Prediction Score: 0.07705789804458618\n",
      "Review: This movie was fantastic! The acting was great and the plot was thrilling.\n",
      "Sentiment: Positive\n",
      "Prediction Score: 0.07705789804458618\n"
     ]
    }
   ],
   "source": [
    "# Step 4: User Input and Prediction\n",
    "# Example review for prediction\n",
    "example_review = \"This movie was fantastic! The acting was great and the plot was thrilling.\"\n",
    "\n",
    "sentiment,score=predict_sentiment(example_review)\n",
    "\n",
    "print(f'Review: {example_review}')\n",
    "print(f'Sentiment: {sentiment}')\n",
    "print(f'Prediction Score: {score}')"
   ]
  },
  {
   "cell_type": "code",
   "execution_count": null,
   "metadata": {},
   "outputs": [],
   "source": []
  },
  {
   "cell_type": "code",
   "execution_count": null,
   "metadata": {},
   "outputs": [],
   "source": []
  },
  {
   "cell_type": "code",
   "execution_count": null,
   "metadata": {},
   "outputs": [],
   "source": []
  },
  {
   "cell_type": "code",
   "execution_count": null,
   "metadata": {},
   "outputs": [],
   "source": []
  }
 ],
 "metadata": {
  "kernelspec": {
   "display_name": "word",
   "language": "python",
   "name": "python3"
  },
  "language_info": {
   "codemirror_mode": {
    "name": "ipython",
    "version": 3
   },
   "file_extension": ".py",
   "mimetype": "text/x-python",
   "name": "python",
   "nbconvert_exporter": "python",
   "pygments_lexer": "ipython3",
   "version": "3.12.7"
  }
 },
 "nbformat": 4,
 "nbformat_minor": 2
}
