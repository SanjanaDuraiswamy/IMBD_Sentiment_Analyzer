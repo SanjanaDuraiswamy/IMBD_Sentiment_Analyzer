{
 "cells": [
  {
   "cell_type": "code",
   "execution_count": 5,
   "metadata": {},
   "outputs": [],
   "source": [
    "# Step 1: Import Libraries and Load the Model\n",
    "import numpy as np\n",
    "import tensorflow as tf\n",
    "from tensorflow.keras.datasets import imdb\n",
    "from tensorflow.keras.preprocessing import sequence\n",
    "from tensorflow.keras.models import load_model"
   ]
  },
  {
   "cell_type": "code",
   "execution_count": 6,
   "metadata": {},
   "outputs": [],
   "source": [
    "\n",
    "# Load the IMDB dataset word index\n",
    "word_index = imdb.get_word_index()\n",
    "reverse_word_index = {value: key for key, value in word_index.items()}"
   ]
  },
  {
   "cell_type": "code",
   "execution_count": 7,
   "metadata": {},
   "outputs": [
    {
     "name": "stderr",
     "output_type": "stream",
     "text": [
      "WARNING:absl:Compiled the loaded model, but the compiled metrics have yet to be built. `model.compile_metrics` will be empty until you train or evaluate the model.\n"
     ]
    },
    {
     "data": {
      "text/html": [
       "<pre style=\"white-space:pre;overflow-x:auto;line-height:normal;font-family:Menlo,'DejaVu Sans Mono',consolas,'Courier New',monospace\"><span style=\"font-weight: bold\">Model: \"sequential_3\"</span>\n",
       "</pre>\n"
      ],
      "text/plain": [
       "\u001b[1mModel: \"sequential_3\"\u001b[0m\n"
      ]
     },
     "metadata": {},
     "output_type": "display_data"
    },
    {
     "data": {
      "text/html": [
       "<pre style=\"white-space:pre;overflow-x:auto;line-height:normal;font-family:Menlo,'DejaVu Sans Mono',consolas,'Courier New',monospace\">┏━━━━━━━━━━━━━━━━━━━━━━━━━━━━━━━━━┳━━━━━━━━━━━━━━━━━━━━━━━━┳━━━━━━━━━━━━━━━┓\n",
       "┃<span style=\"font-weight: bold\"> Layer (type)                    </span>┃<span style=\"font-weight: bold\"> Output Shape           </span>┃<span style=\"font-weight: bold\">       Param # </span>┃\n",
       "┡━━━━━━━━━━━━━━━━━━━━━━━━━━━━━━━━━╇━━━━━━━━━━━━━━━━━━━━━━━━╇━━━━━━━━━━━━━━━┩\n",
       "│ embedding_3 (<span style=\"color: #0087ff; text-decoration-color: #0087ff\">Embedding</span>)         │ (<span style=\"color: #00d7ff; text-decoration-color: #00d7ff\">None</span>, <span style=\"color: #00af00; text-decoration-color: #00af00\">8</span>, <span style=\"color: #00af00; text-decoration-color: #00af00\">128</span>)         │     <span style=\"color: #00af00; text-decoration-color: #00af00\">1,280,000</span> │\n",
       "├─────────────────────────────────┼────────────────────────┼───────────────┤\n",
       "│ simple_rnn_3 (<span style=\"color: #0087ff; text-decoration-color: #0087ff\">SimpleRNN</span>)        │ (<span style=\"color: #00d7ff; text-decoration-color: #00d7ff\">None</span>, <span style=\"color: #00af00; text-decoration-color: #00af00\">128</span>)            │        <span style=\"color: #00af00; text-decoration-color: #00af00\">32,896</span> │\n",
       "├─────────────────────────────────┼────────────────────────┼───────────────┤\n",
       "│ dense_3 (<span style=\"color: #0087ff; text-decoration-color: #0087ff\">Dense</span>)                 │ (<span style=\"color: #00d7ff; text-decoration-color: #00d7ff\">None</span>, <span style=\"color: #00af00; text-decoration-color: #00af00\">1</span>)              │           <span style=\"color: #00af00; text-decoration-color: #00af00\">129</span> │\n",
       "└─────────────────────────────────┴────────────────────────┴───────────────┘\n",
       "</pre>\n"
      ],
      "text/plain": [
       "┏━━━━━━━━━━━━━━━━━━━━━━━━━━━━━━━━━┳━━━━━━━━━━━━━━━━━━━━━━━━┳━━━━━━━━━━━━━━━┓\n",
       "┃\u001b[1m \u001b[0m\u001b[1mLayer (type)                   \u001b[0m\u001b[1m \u001b[0m┃\u001b[1m \u001b[0m\u001b[1mOutput Shape          \u001b[0m\u001b[1m \u001b[0m┃\u001b[1m \u001b[0m\u001b[1m      Param #\u001b[0m\u001b[1m \u001b[0m┃\n",
       "┡━━━━━━━━━━━━━━━━━━━━━━━━━━━━━━━━━╇━━━━━━━━━━━━━━━━━━━━━━━━╇━━━━━━━━━━━━━━━┩\n",
       "│ embedding_3 (\u001b[38;5;33mEmbedding\u001b[0m)         │ (\u001b[38;5;45mNone\u001b[0m, \u001b[38;5;34m8\u001b[0m, \u001b[38;5;34m128\u001b[0m)         │     \u001b[38;5;34m1,280,000\u001b[0m │\n",
       "├─────────────────────────────────┼────────────────────────┼───────────────┤\n",
       "│ simple_rnn_3 (\u001b[38;5;33mSimpleRNN\u001b[0m)        │ (\u001b[38;5;45mNone\u001b[0m, \u001b[38;5;34m128\u001b[0m)            │        \u001b[38;5;34m32,896\u001b[0m │\n",
       "├─────────────────────────────────┼────────────────────────┼───────────────┤\n",
       "│ dense_3 (\u001b[38;5;33mDense\u001b[0m)                 │ (\u001b[38;5;45mNone\u001b[0m, \u001b[38;5;34m1\u001b[0m)              │           \u001b[38;5;34m129\u001b[0m │\n",
       "└─────────────────────────────────┴────────────────────────┴───────────────┘\n"
      ]
     },
     "metadata": {},
     "output_type": "display_data"
    },
    {
     "data": {
      "text/html": [
       "<pre style=\"white-space:pre;overflow-x:auto;line-height:normal;font-family:Menlo,'DejaVu Sans Mono',consolas,'Courier New',monospace\"><span style=\"font-weight: bold\"> Total params: </span><span style=\"color: #00af00; text-decoration-color: #00af00\">1,313,027</span> (5.01 MB)\n",
       "</pre>\n"
      ],
      "text/plain": [
       "\u001b[1m Total params: \u001b[0m\u001b[38;5;34m1,313,027\u001b[0m (5.01 MB)\n"
      ]
     },
     "metadata": {},
     "output_type": "display_data"
    },
    {
     "data": {
      "text/html": [
       "<pre style=\"white-space:pre;overflow-x:auto;line-height:normal;font-family:Menlo,'DejaVu Sans Mono',consolas,'Courier New',monospace\"><span style=\"font-weight: bold\"> Trainable params: </span><span style=\"color: #00af00; text-decoration-color: #00af00\">1,313,025</span> (5.01 MB)\n",
       "</pre>\n"
      ],
      "text/plain": [
       "\u001b[1m Trainable params: \u001b[0m\u001b[38;5;34m1,313,025\u001b[0m (5.01 MB)\n"
      ]
     },
     "metadata": {},
     "output_type": "display_data"
    },
    {
     "data": {
      "text/html": [
       "<pre style=\"white-space:pre;overflow-x:auto;line-height:normal;font-family:Menlo,'DejaVu Sans Mono',consolas,'Courier New',monospace\"><span style=\"font-weight: bold\"> Non-trainable params: </span><span style=\"color: #00af00; text-decoration-color: #00af00\">0</span> (0.00 B)\n",
       "</pre>\n"
      ],
      "text/plain": [
       "\u001b[1m Non-trainable params: \u001b[0m\u001b[38;5;34m0\u001b[0m (0.00 B)\n"
      ]
     },
     "metadata": {},
     "output_type": "display_data"
    },
    {
     "data": {
      "text/html": [
       "<pre style=\"white-space:pre;overflow-x:auto;line-height:normal;font-family:Menlo,'DejaVu Sans Mono',consolas,'Courier New',monospace\"><span style=\"font-weight: bold\"> Optimizer params: </span><span style=\"color: #00af00; text-decoration-color: #00af00\">2</span> (12.00 B)\n",
       "</pre>\n"
      ],
      "text/plain": [
       "\u001b[1m Optimizer params: \u001b[0m\u001b[38;5;34m2\u001b[0m (12.00 B)\n"
      ]
     },
     "metadata": {},
     "output_type": "display_data"
    }
   ],
   "source": [
    "# Load the pre-trained model with ReLU activation\n",
    "model = load_model('simple_rnn_imdb.h5')\n",
    "model.summary()"
   ]
  },
  {
   "cell_type": "code",
   "execution_count": 8,
   "metadata": {},
   "outputs": [
    {
     "data": {
      "text/plain": [
       "[array([[ 0.13416514,  0.13471703, -0.09526931, ...,  0.00178445,\n",
       "         -0.12865348, -0.0304621 ],\n",
       "        [ 0.03853827, -0.00774431,  0.02512908, ...,  0.04060966,\n",
       "          0.01958422,  0.01171351],\n",
       "        [ 0.05684793,  0.04255582, -0.01252142, ...,  0.00563337,\n",
       "         -0.10002035,  0.04958818],\n",
       "        ...,\n",
       "        [ 0.00673426, -0.06853221, -0.02804518, ...,  0.02178071,\n",
       "         -0.01900434, -0.01566713],\n",
       "        [ 0.04201159, -0.02757141,  0.07970205, ...,  0.02568353,\n",
       "          0.04930843,  0.0724498 ],\n",
       "        [ 0.01589038,  0.01978052,  0.03736948, ..., -0.04003161,\n",
       "         -0.03153732,  0.00055941]], dtype=float32),\n",
       " array([[-0.20033973, -0.13363999,  0.19228756, ...,  0.15003091,\n",
       "          0.00319111,  0.14949949],\n",
       "        [ 0.00294712,  0.14450936,  0.16799852, ..., -0.05365029,\n",
       "         -0.08696037,  0.10530473],\n",
       "        [ 0.13641126,  0.16228455, -0.15224995, ..., -0.17534123,\n",
       "         -0.06699602, -0.07635111],\n",
       "        ...,\n",
       "        [ 0.0548858 ,  0.02193004, -0.11586286, ..., -0.07419596,\n",
       "          0.04490823,  0.13750707],\n",
       "        [ 0.00368234,  0.17171028,  0.06773882, ...,  0.05031595,\n",
       "          0.01515745, -0.09122644],\n",
       "        [ 0.03882698,  0.12111765, -0.00692865, ..., -0.07945193,\n",
       "         -0.04386748, -0.03641902]], dtype=float32),\n",
       " array([[ 5.47824018e-02,  1.30418994e-04,  1.53070241e-02, ...,\n",
       "         -2.50165854e-02,  4.62081283e-03, -3.68952788e-02],\n",
       "        [-4.32626121e-02, -1.14026740e-01, -1.67465098e-02, ...,\n",
       "          1.44315600e-01, -1.30986735e-01, -6.07935451e-02],\n",
       "        [-2.34625470e-02, -4.08572592e-02, -5.72705716e-02, ...,\n",
       "         -1.67792961e-01, -1.09532019e-02, -5.20491786e-02],\n",
       "        ...,\n",
       "        [ 1.08151428e-01, -4.34912741e-03,  3.30131389e-02, ...,\n",
       "         -1.20524131e-01,  4.38052788e-02,  5.78035638e-02],\n",
       "        [-1.21671505e-01,  2.03638658e-01,  5.12106158e-02, ...,\n",
       "          3.44088189e-02,  1.64646298e-01,  3.67080048e-02],\n",
       "        [-4.41380590e-02,  1.93854496e-02,  8.27330127e-02, ...,\n",
       "         -4.24306467e-02,  1.33372024e-01, -1.34660592e-02]], dtype=float32),\n",
       " array([ 9.3473401e-03,  5.6957304e-03,  9.5473686e-03, -1.8657953e-02,\n",
       "        -4.5795046e-02, -3.0228440e-03, -2.2968860e-02, -8.7786379e-04,\n",
       "         2.2250947e-02,  1.2514402e-02, -4.2522536e-03,  1.1279378e-02,\n",
       "         1.4979710e-02,  2.0479174e-02, -3.0485451e-02,  1.0710688e-02,\n",
       "         9.8600741e-03, -1.0965254e-02,  2.0105405e-02, -2.6141237e-02,\n",
       "         1.2804796e-02,  6.7650923e-03,  1.1186969e-02,  2.6248931e-03,\n",
       "         2.1455685e-02,  2.6485883e-02,  3.5929218e-02, -1.9102665e-02,\n",
       "         1.5294149e-02,  4.6968861e-03,  2.9952034e-02, -9.8058414e-03,\n",
       "        -2.0036427e-02,  2.2704870e-02,  9.1396680e-04,  4.2526801e-03,\n",
       "        -3.1152384e-02,  4.4753975e-03,  7.4639525e-03,  3.2151360e-02,\n",
       "        -1.5553129e-02,  2.4940897e-04, -6.1524456e-04,  1.0933654e-02,\n",
       "         1.8171368e-02,  1.0554924e-02,  4.0698973e-03,  7.6483097e-03,\n",
       "         1.0453454e-02,  9.5986081e-03, -3.1236602e-02,  1.5681315e-03,\n",
       "         5.9410140e-05, -6.7035817e-03, -2.9646754e-02,  1.1591182e-02,\n",
       "         1.8492522e-02, -3.3021618e-02, -2.4548305e-02, -4.3066964e-03,\n",
       "        -8.3345855e-03,  3.5077750e-03, -5.5661323e-03,  1.7028131e-02,\n",
       "         2.7835138e-02, -2.3261975e-02, -2.5082521e-02,  1.3014675e-02,\n",
       "        -2.9672513e-02, -5.1301617e-02, -4.3659210e-02, -2.2786196e-02,\n",
       "        -4.9941111e-03, -2.4875883e-02, -3.7231315e-02, -1.1066188e-03,\n",
       "        -1.4335849e-02,  1.8365466e-03,  1.5956221e-02,  2.9648414e-03,\n",
       "         3.1210466e-03,  9.6283183e-03,  1.6640276e-02,  3.6356733e-03,\n",
       "        -2.3704663e-02,  5.2712313e-03,  3.2292604e-02,  3.4398202e-02,\n",
       "         2.0710655e-02, -9.6291844e-03, -1.7014878e-02, -1.7949061e-02,\n",
       "        -4.0734496e-02, -3.4153584e-02, -3.6893349e-02, -1.9187533e-03,\n",
       "         9.3520090e-02, -1.7451854e-02,  1.4715963e-02, -2.2236068e-02,\n",
       "         1.1323573e-02, -2.4794471e-02, -2.2229671e-02,  1.7266942e-02,\n",
       "        -1.7320117e-02, -2.9147618e-02, -2.6260284e-03,  6.6283410e-03,\n",
       "        -4.3763914e-03,  1.0202338e-02, -1.7309448e-02, -2.3972502e-02,\n",
       "         6.8875286e-03,  2.7963828e-02, -1.8114287e-02,  1.8643215e-03,\n",
       "         3.6712337e-02,  1.2359759e-02,  4.2323053e-02, -6.8484196e-03,\n",
       "        -1.7960416e-02, -2.3357577e-03, -1.3685726e-02,  1.7018244e-02,\n",
       "        -3.5344515e-02,  1.1146308e-02, -2.9605949e-02,  2.6616305e-02],\n",
       "       dtype=float32),\n",
       " array([[-0.01107707],\n",
       "        [-0.05399451],\n",
       "        [-0.12461105],\n",
       "        [ 0.18078804],\n",
       "        [-0.22210336],\n",
       "        [-0.02514528],\n",
       "        [ 0.20062687],\n",
       "        [ 0.24120772],\n",
       "        [ 0.09355857],\n",
       "        [ 0.02688356],\n",
       "        [ 0.7201879 ],\n",
       "        [-0.06437712],\n",
       "        [-0.20387857],\n",
       "        [ 0.12461818],\n",
       "        [-0.07321951],\n",
       "        [ 0.07848453],\n",
       "        [-0.13680616],\n",
       "        [-0.12553509],\n",
       "        [-0.17975399],\n",
       "        [ 0.0965398 ],\n",
       "        [ 0.1551348 ],\n",
       "        [ 0.12921996],\n",
       "        [-0.13701588],\n",
       "        [-0.01416587],\n",
       "        [ 0.00688163],\n",
       "        [-0.1513248 ],\n",
       "        [-0.15612587],\n",
       "        [ 0.31348687],\n",
       "        [-0.01089681],\n",
       "        [ 0.14820074],\n",
       "        [-0.40713313],\n",
       "        [ 0.01758783],\n",
       "        [ 0.1685896 ],\n",
       "        [-0.13017377],\n",
       "        [ 0.22495711],\n",
       "        [-0.20687893],\n",
       "        [ 0.33147824],\n",
       "        [-0.17293534],\n",
       "        [ 0.05330675],\n",
       "        [-0.27149144],\n",
       "        [ 0.01933011],\n",
       "        [ 0.05734891],\n",
       "        [ 0.28775468],\n",
       "        [-0.25259426],\n",
       "        [ 0.22319703],\n",
       "        [-0.19876665],\n",
       "        [ 0.09161078],\n",
       "        [-0.18234223],\n",
       "        [-0.16828312],\n",
       "        [-0.08986648],\n",
       "        [ 0.21393861],\n",
       "        [-0.0913953 ],\n",
       "        [-0.22646537],\n",
       "        [-0.09974072],\n",
       "        [ 0.27067876],\n",
       "        [ 0.22323087],\n",
       "        [-0.05891028],\n",
       "        [ 0.05589163],\n",
       "        [ 0.15043803],\n",
       "        [-0.10029411],\n",
       "        [ 0.04969766],\n",
       "        [-0.1962948 ],\n",
       "        [ 0.2167718 ],\n",
       "        [-0.21667711],\n",
       "        [ 0.2584947 ],\n",
       "        [-0.04782256],\n",
       "        [-0.12628976],\n",
       "        [-0.11856634],\n",
       "        [ 0.31849453],\n",
       "        [-0.10112267],\n",
       "        [-0.19142182],\n",
       "        [ 0.09635358],\n",
       "        [-0.01962391],\n",
       "        [-0.10054252],\n",
       "        [ 0.0869255 ],\n",
       "        [ 0.09642501],\n",
       "        [ 0.33219367],\n",
       "        [ 0.31414732],\n",
       "        [ 0.0121228 ],\n",
       "        [ 0.6243817 ],\n",
       "        [-0.10635629],\n",
       "        [ 0.19196013],\n",
       "        [ 0.08143953],\n",
       "        [ 0.15249957],\n",
       "        [ 0.06770955],\n",
       "        [-0.1956902 ],\n",
       "        [-0.22098035],\n",
       "        [-0.17389067],\n",
       "        [-0.2307632 ],\n",
       "        [ 0.3166763 ],\n",
       "        [-0.17061956],\n",
       "        [ 0.3424728 ],\n",
       "        [ 0.02383011],\n",
       "        [ 0.0415596 ],\n",
       "        [-0.05489717],\n",
       "        [ 0.23484173],\n",
       "        [-0.11124551],\n",
       "        [ 0.83792907],\n",
       "        [-0.1657503 ],\n",
       "        [ 0.17246735],\n",
       "        [ 0.09031393],\n",
       "        [ 0.31721824],\n",
       "        [-0.09541538],\n",
       "        [ 0.13907307],\n",
       "        [-0.19156948],\n",
       "        [ 0.21823321],\n",
       "        [ 0.07898618],\n",
       "        [-0.13965191],\n",
       "        [ 0.14015344],\n",
       "        [-0.2185666 ],\n",
       "        [ 0.04599158],\n",
       "        [ 0.02183714],\n",
       "        [-0.13860364],\n",
       "        [ 0.06404876],\n",
       "        [ 0.19209713],\n",
       "        [ 0.16290995],\n",
       "        [ 0.04820877],\n",
       "        [-0.32433936],\n",
       "        [-0.20009944],\n",
       "        [-0.11092392],\n",
       "        [ 0.00939669],\n",
       "        [ 0.3366869 ],\n",
       "        [-0.2908213 ],\n",
       "        [-0.05415777],\n",
       "        [ 0.08125419],\n",
       "        [-0.11230834],\n",
       "        [-0.05875721],\n",
       "        [-0.21306144]], dtype=float32),\n",
       " array([0.25437596], dtype=float32)]"
      ]
     },
     "execution_count": 8,
     "metadata": {},
     "output_type": "execute_result"
    }
   ],
   "source": [
    "model.get_weights()"
   ]
  },
  {
   "cell_type": "code",
   "execution_count": 9,
   "metadata": {},
   "outputs": [],
   "source": [
    "# Step 2: Helper Functions\n",
    "# Function to decode reviews\n",
    "def decode_review(encoded_review):\n",
    "    return ' '.join([reverse_word_index.get(i - 3, '?') for i in encoded_review])\n",
    "\n",
    "# Function to preprocess user input\n",
    "def preprocess_text(text):\n",
    "    words = text.lower().split()\n",
    "    encoded_review = [word_index.get(word, 2) + 3 for word in words]\n",
    "    padded_review = sequence.pad_sequences([encoded_review], maxlen=500)\n",
    "    return padded_review"
   ]
  },
  {
   "cell_type": "code",
   "execution_count": 14,
   "metadata": {},
   "outputs": [],
   "source": [
    "### Prediction  function\n",
    "\n",
    "def predict_sentiment(review):\n",
    "    preprocessed_input=preprocess_text(review)\n",
    "\n",
    "    prediction=model.predict(preprocessed_input)\n",
    "    score=float(prediction[0][0])\n",
    "    print(\"Prediction Score:\",score)\n",
    "    if score >=0.05:\n",
    "     sentiment = 'Positive'\n",
    "    else:\n",
    "     sentiment = 'Negative' \n",
    "    return sentiment, score\n",
    "\n"
   ]
  },
  {
   "cell_type": "code",
   "execution_count": 15,
   "metadata": {},
   "outputs": [
    {
     "name": "stdout",
     "output_type": "stream",
     "text": [
      "\u001b[1m1/1\u001b[0m \u001b[32m━━━━━━━━━━━━━━━━━━━━\u001b[0m\u001b[37m\u001b[0m \u001b[1m0s\u001b[0m 37ms/step\n",
      "Prediction Score: 0.07705789804458618\n",
      "Review: This movie was fantastic! The acting was great and the plot was thrilling.\n",
      "Sentiment: Positive\n",
      "Prediction Score: 0.07705789804458618\n"
     ]
    }
   ],
   "source": [
    "# Step 4: User Input and Prediction\n",
    "# Example review for prediction\n",
    "example_review = \"This movie was fantastic! The acting was great and the plot was thrilling.\"\n",
    "\n",
    "sentiment,score=predict_sentiment(example_review)\n",
    "\n",
    "print(f'Review: {example_review}')\n",
    "print(f'Sentiment: {sentiment}')\n",
    "print(f'Prediction Score: {score}')"
   ]
  },
  {
   "cell_type": "code",
   "execution_count": null,
   "metadata": {},
   "outputs": [],
   "source": []
  },
  {
   "cell_type": "code",
   "execution_count": null,
   "metadata": {},
   "outputs": [],
   "source": []
  },
  {
   "cell_type": "code",
   "execution_count": null,
   "metadata": {},
   "outputs": [],
   "source": []
  },
  {
   "cell_type": "code",
   "execution_count": null,
   "metadata": {},
   "outputs": [],
   "source": []
  }
 ],
 "metadata": {
  "kernelspec": {
   "display_name": "word",
   "language": "python",
   "name": "python3"
  },
  "language_info": {
   "codemirror_mode": {
    "name": "ipython",
    "version": 3
   },
   "file_extension": ".py",
   "mimetype": "text/x-python",
   "name": "python",
   "nbconvert_exporter": "python",
   "pygments_lexer": "ipython3",
   "version": "3.12.7"
  }
 },
 "nbformat": 4,
 "nbformat_minor": 2
}
